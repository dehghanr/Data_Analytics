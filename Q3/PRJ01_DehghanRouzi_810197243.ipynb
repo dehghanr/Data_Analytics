{
 "cells": [
  {
   "cell_type": "markdown",
   "metadata": {},
   "source": [
    "Mohammad Dehghan Rouzi (810197243)\n",
    "import section"
   ]
  },
  {
   "cell_type": "code",
   "execution_count": 1,
   "metadata": {},
   "outputs": [],
   "source": [
    "import numpy as np\n",
    "import pandas as pd\n",
    "import matplotlib.pyplot as plt"
   ]
  },
  {
   "cell_type": "markdown",
   "metadata": {},
   "source": [
    "''' Load oil data'''"
   ]
  },
  {
   "cell_type": "code",
   "execution_count": 2,
   "metadata": {},
   "outputs": [
    {
     "name": "stdout",
     "output_type": "stream",
     "text": [
      "       Date_oil  Price_oil\n",
      "0     5/20/1987      18.63\n",
      "1     5/21/1987      18.45\n",
      "2     5/22/1987      18.55\n",
      "3     5/25/1987      18.60\n",
      "4     5/26/1987      18.63\n",
      "...         ...        ...\n",
      "8206  9/17/2019      65.59\n",
      "8207  9/18/2019      64.29\n",
      "8208  9/19/2019      64.25\n",
      "8209  9/20/2019      65.23\n",
      "8210  9/23/2019      64.66\n",
      "\n",
      "[8211 rows x 2 columns]\n"
     ]
    }
   ],
   "source": [
    "df_oil = pd.read_csv('Oil.csv')\n",
    "df_oil.columns = ['Date_oil', 'Price_oil']\n",
    "print(df_oil)"
   ]
  },
  {
   "cell_type": "markdown",
   "metadata": {},
   "source": [
    "''' Load gold data''' (xlrd data is needed)"
   ]
  },
  {
   "cell_type": "code",
   "execution_count": 3,
   "metadata": {},
   "outputs": [
    {
     "name": "stdout",
     "output_type": "stream",
     "text": [
      "       Date_gold  Price_gold\n",
      "0     1978-12-29      226.00\n",
      "1     1979-01-01      226.00\n",
      "2     1979-01-02      226.80\n",
      "3     1979-01-03      218.60\n",
      "4     1979-01-04      223.15\n",
      "...          ...         ...\n",
      "10621 2019-09-16     1497.20\n",
      "10622 2019-09-17     1502.10\n",
      "10623 2019-09-18     1503.50\n",
      "10624 2019-09-19     1500.70\n",
      "10625 2019-09-20     1501.90\n",
      "\n",
      "[10626 rows x 2 columns]\n"
     ]
    }
   ],
   "source": [
    "gold_price = pd.ExcelFile('Gold.xlsx')\n",
    "df_gold = gold_price.parse(\"Daily\", skiprows=8, usecols=range(3, 5))\n",
    "df_gold.columns = ['Date_gold', 'Price_gold']\n",
    "print(df_gold)"
   ]
  },
  {
   "cell_type": "markdown",
   "metadata": {},
   "source": [
    "''' Convert to pandas datetime '''"
   ]
  },
  {
   "cell_type": "code",
   "execution_count": 4,
   "metadata": {},
   "outputs": [
    {
     "name": "stdout",
     "output_type": "stream",
     "text": [
      "      Date_oil  Price_oil\n",
      "0   1987-05-31  18.580000\n",
      "1   1987-06-30  18.860476\n",
      "2   1987-07-31  19.856522\n",
      "3   1987-08-31  18.979524\n",
      "4   1987-09-30  18.313182\n",
      "..         ...        ...\n",
      "384 2019-05-31  71.317727\n",
      "385 2019-06-30  64.220500\n",
      "386 2019-07-31  63.919130\n",
      "387 2019-08-31  59.041818\n",
      "388 2019-09-30  62.954375\n",
      "\n",
      "[389 rows x 2 columns]\n",
      "     Date_gold   Price_gold\n",
      "0   1978-12-31   226.000000\n",
      "1   1979-01-31   227.215217\n",
      "2   1979-02-28   245.670000\n",
      "3   1979-03-31   242.047727\n",
      "4   1979-04-30   238.664286\n",
      "..         ...          ...\n",
      "485 2019-05-31  1283.650000\n",
      "486 2019-06-30  1359.042500\n",
      "487 2019-07-31  1412.978261\n",
      "488 2019-08-31  1499.025000\n",
      "489 2019-09-30  1512.300000\n",
      "\n",
      "[490 rows x 2 columns]\n"
     ]
    }
   ],
   "source": [
    "df_oil['Date_oil'] = pd.to_datetime(df_oil['Date_oil'], errors='coerce')\n",
    "df_oil = df_oil.resample('M', on='Date_oil').mean()\n",
    "df_oil = df_oil.reset_index()\n",
    "print(df_oil)\n",
    "\n",
    "df_gold['Date_gold'] = pd.to_datetime(df_gold['Date_gold'], errors='coerce')\n",
    "df_gold = df_gold.resample('M', on='Date_gold').mean()\n",
    "df_gold = df_gold.reset_index()\n",
    "print(df_gold)"
   ]
  },
  {
   "cell_type": "markdown",
   "metadata": {},
   "source": [
    "'''Merge cells'''"
   ]
  },
  {
   "cell_type": "code",
   "execution_count": 5,
   "metadata": {},
   "outputs": [
    {
     "name": "stdout",
     "output_type": "stream",
     "text": [
      "      Date_oil  Price_oil grouper_date  Date_gold   Price_gold\n",
      "0   1987-05-31  18.580000      1987-05 1987-05-31   460.366667\n",
      "1   1987-06-30  18.860476      1987-06 1987-06-30   449.590909\n",
      "2   1987-07-31  19.856522      1987-07 1987-07-31   450.517391\n",
      "3   1987-08-31  18.979524      1987-08 1987-08-31   460.778571\n",
      "4   1987-09-30  18.313182      1987-09 1987-09-30   460.347727\n",
      "..         ...        ...          ...        ...          ...\n",
      "384 2019-05-31  71.317727      2019-05 2019-05-31  1283.650000\n",
      "385 2019-06-30  64.220500      2019-06 2019-06-30  1359.042500\n",
      "386 2019-07-31  63.919130      2019-07 2019-07-31  1412.978261\n",
      "387 2019-08-31  59.041818      2019-08 2019-08-31  1499.025000\n",
      "388 2019-09-30  62.954375      2019-09 2019-09-30  1512.300000\n",
      "\n",
      "[389 rows x 5 columns]\n"
     ]
    }
   ],
   "source": [
    "final_df = pd.merge(df_oil.assign(grouper_date=df_oil['Date_oil'].dt.to_period('M')),\n",
    "                    df_gold.assign(grouper_date=df_gold['Date_gold'].dt.to_period('M')),\n",
    "                    how='left', on='grouper_date')\n",
    "\n",
    "print(final_df)"
   ]
  },
  {
   "cell_type": "markdown",
   "metadata": {},
   "source": [
    "''' remove rows belong to 1987 '''"
   ]
  },
  {
   "cell_type": "code",
   "execution_count": 6,
   "metadata": {},
   "outputs": [
    {
     "name": "stdout",
     "output_type": "stream",
     "text": [
      "      Date_oil  Price_oil grouper_date  Date_gold   Price_gold\n",
      "8   1988-01-31  16.749444      1988-01 1988-01-31   476.938095\n",
      "9   1988-02-29  15.729524      1988-02 1988-02-29   442.073810\n",
      "10  1988-03-31  14.731304      1988-03 1988-03-31   443.606522\n",
      "11  1988-04-30  16.595263      1988-04 1988-04-30   452.061905\n",
      "12  1988-05-31  16.314091      1988-05 1988-05-31   451.015909\n",
      "..         ...        ...          ...        ...          ...\n",
      "384 2019-05-31  71.317727      2019-05 2019-05-31  1283.650000\n",
      "385 2019-06-30  64.220500      2019-06 2019-06-30  1359.042500\n",
      "386 2019-07-31  63.919130      2019-07 2019-07-31  1412.978261\n",
      "387 2019-08-31  59.041818      2019-08 2019-08-31  1499.025000\n",
      "388 2019-09-30  62.954375      2019-09 2019-09-30  1512.300000\n",
      "\n",
      "[381 rows x 5 columns]\n"
     ]
    }
   ],
   "source": [
    "final_df = final_df.iloc[8:]\n",
    "# final_df = final_df.drop(final_df.index[:3], inplace=True)\n",
    "print(final_df)"
   ]
  },
  {
   "cell_type": "markdown",
   "metadata": {},
   "source": [
    "''' show results '''"
   ]
  },
  {
   "cell_type": "code",
   "execution_count": 7,
   "metadata": {},
   "outputs": [
    {
     "name": "stderr",
     "output_type": "stream",
     "text": [
      "c:\\users\\asus\\appdata\\local\\programs\\python\\python36\\lib\\site-packages\\pandas\\plotting\\_matplotlib\\converter.py:103: FutureWarning: Using an implicitly registered datetime converter for a matplotlib plotting method. The converter was registered by pandas on import. Future versions of pandas will require you to explicitly register matplotlib converters.\n",
      "\n",
      "To register the converters:\n",
      "\t>>> from pandas.plotting import register_matplotlib_converters\n",
      "\t>>> register_matplotlib_converters()\n",
      "  warnings.warn(msg, FutureWarning)\n"
     ]
    },
    {
     "data": {
      "image/png": "[encoded data removed]",
      "text/plain": [
       "<Figure size 432x288 with 1 Axes>"
      ]
     },
     "metadata": {
      "needs_background": "light"
     },
     "output_type": "display_data"
    }
   ],
   "source": [
    "plt.plot(final_df['Date_oil'], final_df['Price_gold'], label='Gold price')\n",
    "plt.plot(final_df['Date_oil'], final_df['Price_oil'], label='Oil price')\n",
    "plt.legend()\n",
    "plt.grid(True)\n",
    "plt.xlabel('Years')\n",
    "plt.ylabel('Price ($)')\n",
    "plt.title('Oil and Gold price comparison')\n",
    "\n",
    "\n",
    "plt.show()"
   ]
  },
  {
   "cell_type": "code",
   "execution_count": null,
   "metadata": {},
   "outputs": [],
   "source": []
  }
 ],
 "metadata": {
  "kernelspec": {
   "display_name": "Python 3",
   "language": "python",
   "name": "python3"
  },
  "language_info": {
   "codemirror_mode": {
    "name": "ipython",
    "version": 3
   },
   "file_extension": ".py",
   "mimetype": "text/x-python",
   "name": "python",
   "nbconvert_exporter": "python",
   "pygments_lexer": "ipython3",
   "version": "3.6.8"
  }
 },
 "nbformat": 4,
 "nbformat_minor": 2
}
