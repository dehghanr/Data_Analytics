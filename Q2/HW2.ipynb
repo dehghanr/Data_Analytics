{
 "cells": [
  {
   "cell_type": "markdown",
   "metadata": {},
   "source": [
    "# Import libraries"
   ]
  },
  {
   "cell_type": "code",
   "execution_count": 1,
   "metadata": {},
   "outputs": [],
   "source": [
    "import numpy as np\n",
    "import pandas as pd"
   ]
  },
  {
   "cell_type": "markdown",
   "metadata": {},
   "source": [
    "''' Read title_rating.tsc file '''"
   ]
  },
  {
   "cell_type": "code",
   "execution_count": 2,
   "metadata": {},
   "outputs": [
    {
     "name": "stdout",
     "output_type": "stream",
     "text": [
      "title_rating.tsv Has been loaded\n"
     ]
    }
   ],
   "source": [
    "def read_title_rating():\n",
    "    film_names1 = []\n",
    "    ratings1 = []\n",
    "    with open('title_rating.tsv', 'r+') as f:\n",
    "        ''' Skip first line '''\n",
    "        first_line = f.readline()\n",
    "        for line in f:\n",
    "            counter = 0\n",
    "            row = line.split()\n",
    "            film_names1.append(row[0])\n",
    "            ratings1.append(float(row[1]))\n",
    "    print('title_rating.tsv Has been loaded')\n",
    "    film_names_ratings1 = pd.DataFrame(film_names1, columns=['Film name'])\n",
    "    film_names_ratings1['Rating'] = ratings1\n",
    "    # print(film_names_ratings)\n",
    "    return film_names_ratings1, film_names1, ratings1\n",
    "\n",
    "\n",
    "film_names_ratings, film_names, ratings = read_title_rating()\n",
    "# print(film_names_ratings)\n",
    "# print('Ratings')"
   ]
  },
  {
   "cell_type": "markdown",
   "metadata": {},
   "source": [
    "''' Read title_crew.tsc file '''"
   ]
  },
  {
   "cell_type": "code",
   "execution_count": 3,
   "metadata": {},
   "outputs": [
    {
     "name": "stdout",
     "output_type": "stream",
     "text": [
      "title_crew.tsv Has been loaded\n"
     ]
    }
   ],
   "source": [
    "def read_title_crew():\n",
    "    film_names_crew1 = []\n",
    "    directors_id_crew1 = []\n",
    "    with open('title_crew.tsv', 'r+') as f:\n",
    "        ''' Skip first line '''\n",
    "        first_line = f.readline()\n",
    "        for line in f:\n",
    "            counter = 0\n",
    "            row = line.split()\n",
    "            film_names_crew1.append(row[0])\n",
    "            row_list = row[1].split(',')\n",
    "            directors_id_crew1.append(row_list)\n",
    "            # print(row_list)\n",
    "            # print(type(directors_id_crew1))\n",
    "    # list(map(str, directors_id_crew1))\n",
    "    # print(type(directors_id_crew))\n",
    "    print('title_crew.tsv Has been loaded')\n",
    "    film_names_directors_id1 = pd.DataFrame(film_names_crew1, columns=['Film name'])\n",
    "    film_names_directors_id1['Director id'] = directors_id_crew1\n",
    "    return film_names_directors_id1, film_names_crew1, directors_id_crew1\n",
    "\n",
    "\n",
    "film_names_directors_id, film_names_crew, directors_id_crew = read_title_crew()\n",
    "# print(film_names_directors_id)\n",
    "# print('CREW')"
   ]
  },
  {
   "cell_type": "markdown",
   "metadata": {},
   "source": [
    "# ''' Read name_basics.tsc file ''' \n",
    "(It's a big file, so the following function will be read in the next sections of the code)"
   ]
  },
  {
   "cell_type": "code",
   "execution_count": 4,
   "metadata": {},
   "outputs": [],
   "source": [
    "def read_name_basics():\n",
    "    directors_id_basics1 = []\n",
    "    directors_names_basics1 = []\n",
    "    with open('name_basics.tsv', 'r+') as f:\n",
    "        ''' Skip first line '''\n",
    "        first_line = f.readline()\n",
    "        for line in f:\n",
    "            counter = 0\n",
    "            row = line.split()\n",
    "            directors_id_basics1.append(row[0])\n",
    "            name = str(row[1]) + ' ' + str(row[2])\n",
    "            directors_names_basics1.append(name)\n",
    "    print('name_basics.tsv Has been loaded')\n",
    "    directors_id_name1 = pd.DataFrame(directors_id_basics1, columns=['Director id'])\n",
    "    directors_id_name1['Director names'] = directors_names_basics1\n",
    "    # print(directors_id_name1)\n",
    "    return directors_id_name1, directors_id_basics1, directors_names_basics1\n",
    "\n",
    "\n",
    "# directors_id_name = read_name_basics()\n",
    "# print(directors_id_name)\n",
    "# print('Director names')"
   ]
  },
  {
   "cell_type": "markdown",
   "metadata": {},
   "source": [
    "''' ِ Dictionary of director ids and their films '''"
   ]
  },
  {
   "cell_type": "code",
   "execution_count": 5,
   "metadata": {},
   "outputs": [
    {
     "name": "stdout",
     "output_type": "stream",
     "text": [
      "Making dictionary of director ids and their films ...\n"
     ]
    }
   ],
   "source": [
    "print('Making dictionary of director ids and their films ...')\n",
    "directors_id_dict = {}\n",
    "for i in range(len(directors_id_crew)):\n",
    "    film_name_value = film_names_crew[i]\n",
    "    for j in range(len(directors_id_crew[i])):\n",
    "        director_id = directors_id_crew[i][j]\n",
    "        keys_dict = directors_id_dict.keys()\n",
    "        if director_id not in keys_dict:\n",
    "            directors_id_dict[director_id] = [film_name_value]\n",
    "        else:\n",
    "            directors_id_dict[director_id].append(film_name_value)\n",
    "\n",
    "directors_id_dict_df = pd.DataFrame(list(directors_id_dict.items()), columns=['Director id', 'Films list'])\n"
   ]
  },
  {
   "cell_type": "markdown",
   "metadata": {},
   "source": [
    "# ''' ِ Dictionary of director ids and their films '''\n",
    "Now lets see first 5 rows"
   ]
  },
  {
   "cell_type": "code",
   "execution_count": 6,
   "metadata": {},
   "outputs": [
    {
     "name": "stdout",
     "output_type": "stream",
     "text": [
      "film_names_ratings_dict\n",
      "tt0000001 5.6\n",
      "tt0000002 6.1\n",
      "tt0000003 6.5\n",
      "tt0000004 6.2\n",
      "tt0000005 6.1\n",
      "directors_id_dict\n",
      "nm0005690 ['tt0000001', 'tt0000005', 'tt0000006', 'tt0000007', 'tt0000008', 'tt0000036', 'tt0000060', 'tt0000076', 'tt0000082', 'tt0000108', 'tt0000109', 'tt0000110', 'tt0000111', 'tt0000112', 'tt0000113', 'tt0000135', 'tt0000201', 'tt0000247', 'tt0000464', 'tt0154152', 'tt0177707', 'tt0203501', 'tt0203581', 'tt0203646', 'tt0203853', 'tt0203883', 'tt0203934', 'tt0203935', 'tt0203944', 'tt0204056', 'tt0205065', 'tt0205121', 'tt0216013', 'tt0216031', 'tt0217340', 'tt0219560', 'tt0219969', 'tt0229209', 'tt0229217', 'tt0229220', 'tt0229231', 'tt0229235', 'tt0229276', 'tt0229300', 'tt0229323', 'tt0229387', 'tt0229449', 'tt0229489', 'tt0229628', 'tt0229661', 'tt0229857', 'tt0229858', 'tt0240349', 'tt0240354', 'tt0240367', 'tt0240372', 'tt0240373', 'tt0240385', 'tt0240423', 'tt0240514', 'tt0240586', 'tt0240695', 'tt0240721', 'tt0240823', 'tt0240988', 'tt0241019', 'tt0241185', 'tt0241282', 'tt0241283', 'tt0241373', 'tt0241392', 'tt0241393', 'tt0241394', 'tt0241398', 'tt0241446', 'tt0241703', 'tt0241715', 'tt0241735', 'tt0241763', 'tt0241829', 'tt0241830', 'tt0241831', 'tt0241832', 'tt0241833', 'tt0241834', 'tt0241835', 'tt0241906', 'tt0242050', 'tt0242140', 'tt0242148', 'tt0243186', 'tt0243203', 'tt0243268', 'tt0243516', 'tt0275997', 'tt0276357', 'tt0277115', 'tt0285734', 'tt0285846', 'tt0285903', 'tt0308254', 'tt0309396', 'tt0309402', 'tt0312728', 'tt0325518', 'tt0326158', 'tt0361921', 'tt0415735', 'tt0415756', 'tt0415775', 'tt0415776', 'tt0415789', 'tt0416046', 'tt0416047', 'tt0416190', 'tt0416191', 'tt0416193', 'tt0416194', 'tt0416260', 'tt0416266', 'tt0416310', 'tt0477266', 'tt0477315', 'tt10636326', 'tt1428455', 'tt1496763', 'tt1770693', 'tt1770702', 'tt2035499', 'tt2125485', 'tt2150355', 'tt2150419', 'tt2150421', 'tt2151639', 'tt2151665', 'tt2151713', 'tt2151715', 'tt2151737', 'tt2151751', 'tt2152823', 'tt2152839', 'tt2152855', 'tt2153887', 'tt2153901', 'tt2153937', 'tt2158561', 'tt2158709', 'tt2158711', 'tt2158875', 'tt2160073', 'tt2160089', 'tt2160203', 'tt2160205', 'tt2161519', 'tt2161521', 'tt2174153', 'tt2174205', 'tt2174215', 'tt2176027', 'tt2176029', 'tt2176031', 'tt2185463', 'tt2604136', 'tt6687694']\n",
      "nm0721526 ['tt0000002', 'tt0000003', 'tt0000004', 'tt0000015', 'tt0413219', 'tt2184201', 'tt2184231']\n",
      "nm0374658 ['tt0000007', 'tt0000038', 'tt0139738', 'tt0154152', 'tt0203581', 'tt0205065', 'tt0216080', 'tt0217234', 'tt0217247', 'tt0217248', 'tt0217289', 'tt0217314', 'tt0217353', 'tt0217466', 'tt0217489', 'tt0217580', 'tt0217588', 'tt0218242', 'tt0218295', 'tt0218387', 'tt0218512', 'tt0218540', 'tt0218608', 'tt0218655', 'tt0219497', 'tt0219498', 'tt0219560', 'tt0219931', 'tt0221082', 'tt0221240', 'tt0221396', 'tt0221560', 'tt0224584', 'tt0226241', 'tt0226415', 'tt0226580', 'tt0229231', 'tt0229235', 'tt0229279', 'tt0229280', 'tt0229300', 'tt0229306', 'tt0229324', 'tt0229665', 'tt0229671', 'tt0229732', 'tt0229753', 'tt0229763', 'tt0229840', 'tt0232272', 'tt0232273', 'tt0241392', 'tt0241393', 'tt0241394', 'tt0241715', 'tt0241735', 'tt0243186', 'tt0285863', 'tt0286110', 'tt0307957', 'tt0309396', 'tt0312728', 'tt0325518', 'tt0326158', 'tt0335415', 'tt0361921', 'tt0416046', 'tt0416047', 'tt2150537', 'tt2151592', 'tt2154007', 'tt2161377', 'tt2173971', 'tt2174105', 'tt2179293', 'tt2184114']\n",
      "nm0085156 ['tt0000009']\n",
      "nm0525910 ['tt0000010', 'tt0000012', 'tt0000013', 'tt0000014', 'tt0000016', 'tt0000022', 'tt0000023', 'tt0000026', 'tt0000027', 'tt0000028', 'tt0000029', 'tt0000031', 'tt0000033', 'tt0000041', 'tt0000070', 'tt0000093', 'tt0204861', 'tt0212052', 'tt0221480', 'tt0221806', 'tt0221807', 'tt0221814', 'tt0221815', 'tt0221816', 'tt0221817', 'tt0221821', 'tt0221833', 'tt0221874', 'tt0221884', 'tt0221888', 'tt0221900', 'tt0221913', 'tt0221923', 'tt0221929', 'tt0221930', 'tt0221935', 'tt0221941', 'tt0221942', 'tt0221943', 'tt0222036', 'tt0222137', 'tt0222140', 'tt0222144', 'tt0222160', 'tt0222170', 'tt0222178', 'tt0222182', 'tt0222183', 'tt0222190', 'tt0222259', 'tt0222261', 'tt0222267', 'tt0222271', 'tt0222285', 'tt0222296', 'tt0222313', 'tt0222318', 'tt0222320', 'tt0222329', 'tt0222336', 'tt0222350', 'tt0222452', 'tt0222453', 'tt0222472', 'tt0222481', 'tt0229296', 'tt0234520', 'tt0256672', 'tt0345188', 'tt0345326', 'tt0367590', 'tt0420543', 'tt0420976', 'tt0452268', 'tt0452391', 'tt0791136', 'tt10588240', 'tt1167665', 'tt1182316', 'tt1182319', 'tt1184936', 'tt1185006', 'tt1186197', 'tt1186207', 'tt1186209', 'tt1187020', 'tt1188712', 'tt1219047', 'tt1663890', 'tt1663922', 'tt1666737', 'tt1672757', 'tt1672807', 'tt1736627', 'tt1740508', 'tt1740545', 'tt1741514', 'tt1741547', 'tt1741560', 'tt1741563', 'tt2151541', 'tt2152814', 'tt2158697', 'tt2181915', 'tt2194551', 'tt2217857', 'tt2217949', 'tt2316478', 'tt2460076', 'tt2460096', 'tt2460098', 'tt2460614', 'tt2461054', 'tt2461164', 'tt2478984', 'tt3177300', 'tt3177302', 'tt3177312', 'tt3182992', 'tt5752422', 'tt5752434', 'tt6231346', 'tt7408002', 'tt7669396', 'tt7670042', 'tt7690252', 'tt7690268', 'tt8245694', 'tt8442154', 'tt8477814', 'tt8485720', 'tt8488118']\n"
     ]
    }
   ],
   "source": [
    "film_names_ratings_dict = dict(zip(film_names, ratings))\n",
    "print('film_names_ratings_dict')\n",
    "counter = 0\n",
    "for i, j in film_names_ratings_dict.items():\n",
    "    print(i, j)\n",
    "    counter += 1\n",
    "    if counter >= 5:\n",
    "        break\n",
    "\n",
    "print('directors_id_dict')\n",
    "counter = 0\n",
    "for i, j in directors_id_dict.items():\n",
    "    print(i, j)\n",
    "    counter += 1\n",
    "    if counter >= 5:\n",
    "        break"
   ]
  },
  {
   "cell_type": "markdown",
   "metadata": {},
   "source": [
    "# Now lets make dictionary of film ids versus their ratings and see result of 5 sample rows"
   ]
  },
  {
   "cell_type": "code",
   "execution_count": 7,
   "metadata": {},
   "outputs": [
    {
     "name": "stdout",
     "output_type": "stream",
     "text": [
      "film_ids_ratings\n",
      "nm0005690 4.732317073170732\n",
      "nm0721526 5.828571428571428\n",
      "nm0374658 3.863157894736841\n",
      "nm0085156 5.4\n",
      "nm0525910 5.281818181818181\n"
     ]
    }
   ],
   "source": [
    "film_ids_ratings = {}\n",
    "for i, j in directors_id_dict.items():\n",
    "    constant = 0\n",
    "    for k in range(len(j)):\n",
    "        if i not in film_ids_ratings.keys():\n",
    "            if j[k] in film_names_ratings_dict.keys():\n",
    "                constant = film_names_ratings_dict[j[k]]\n",
    "                film_ids_ratings[i] = constant\n",
    "        else:\n",
    "            if j[k] in film_names_ratings_dict.keys():\n",
    "                film_ids_ratings[i] += film_names_ratings_dict[j[k]]\n",
    "    if i in film_ids_ratings.keys():\n",
    "        film_ids_ratings[i] /= len(j)\n",
    "\n",
    "print('film_ids_ratings')\n",
    "counter = 0\n",
    "for i, j in film_ids_ratings.items():\n",
    "    print(i, j)\n",
    "    counter += 1\n",
    "    if counter >= 5:\n",
    "        break"
   ]
  },
  {
   "cell_type": "markdown",
   "metadata": {},
   "source": [
    "# Now lets load that big file! (director names)\n",
    "Then we will see a sample 5 row of them"
   ]
  },
  {
   "cell_type": "code",
   "execution_count": 8,
   "metadata": {},
   "outputs": [
    {
     "name": "stdout",
     "output_type": "stream",
     "text": [
      "director Names loading ...\n",
      "name_basics.tsv Has been loaded\n",
      "directors_id_name_dict\n",
      "nm0000001 Fred Astaire\n",
      "nm0000002 Lauren Bacall\n",
      "nm0000003 Brigitte Bardot\n",
      "nm0000004 John Belushi\n",
      "nm0000005 Ingmar Bergman\n"
     ]
    }
   ],
   "source": [
    "print('director Names loading ...')\n",
    "directors_id_name, directors_id_basics, directors_names_basics = read_name_basics()\n",
    "directors_id_name_dict = dict(zip(directors_id_basics, directors_names_basics))\n",
    "\n",
    "print('directors_id_name_dict')\n",
    "counter = 0\n",
    "for i, j in directors_id_name_dict.items():\n",
    "    print(i, j)\n",
    "    counter += 1\n",
    "    if counter >= 5:\n",
    "        break"
   ]
  },
  {
   "cell_type": "markdown",
   "metadata": {},
   "source": [
    "# Now lets build a dictionary containing director names and their ratings and see 5 sample items of the dictionary"
   ]
  },
  {
   "cell_type": "code",
   "execution_count": 9,
   "metadata": {},
   "outputs": [
    {
     "name": "stdout",
     "output_type": "stream",
     "text": [
      "director_names_ratings_dict\n",
      "William K.L. 4.732317073170732\n",
      "أ‰mile Reynaud 5.828571428571428\n",
      "William Heise 3.863157894736841\n",
      "Alexander Black 5.4\n",
      "Louis Lumiأ¨re 5.281818181818181\n"
     ]
    }
   ],
   "source": [
    "director_names_ratings_dict = {}\n",
    "for i, j in film_ids_ratings.items():\n",
    "    if i in directors_id_name_dict.keys():\n",
    "        director_names_ratings_dict[directors_id_name_dict[i]] = j\n",
    "\n",
    "print('director_names_ratings_dict')\n",
    "counter = 0\n",
    "for i, j in director_names_ratings_dict.items():\n",
    "    print(i, j)\n",
    "    counter += 1\n",
    "    if counter >= 5:\n",
    "        break"
   ]
  },
  {
   "cell_type": "markdown",
   "metadata": {},
   "source": [
    "# Lets build final dataframe to show our result:"
   ]
  },
  {
   "cell_type": "code",
   "execution_count": 10,
   "metadata": {},
   "outputs": [
    {
     "name": "stdout",
     "output_type": "stream",
     "text": [
      "              Director Name  Rate ratio\n",
      "0            David Grossman   10.000000\n",
      "1              Mark Anthony   10.000000\n",
      "2                   Mark E.   10.000000\n",
      "3           Philip Mitchell   10.000000\n",
      "4               Jon Simpson   10.000000\n",
      "...                     ...         ...\n",
      "210357  Praveen Kadakkavoor    0.002007\n",
      "210358       Nilesh Ambekar    0.001974\n",
      "210359         Paresh Patil    0.001544\n",
      "210360      Sudheesh Sankar    0.001121\n",
      "210361        Luizi Agudelo    0.000815\n",
      "\n",
      "[210362 rows x 2 columns]\n"
     ]
    }
   ],
   "source": [
    "import operator\n",
    "sorted_list = sorted(director_names_ratings_dict.items(), key=operator.itemgetter(1), reverse=True)\n",
    "df_final = pd.DataFrame(sorted_list, columns=['Director Name', 'Rate ratio'])\n",
    "print(df_final)"
   ]
  },
  {
   "cell_type": "code",
   "execution_count": null,
   "metadata": {},
   "outputs": [],
   "source": []
  }
 ],
 "metadata": {
  "kernelspec": {
   "display_name": "Python 3",
   "language": "python",
   "name": "python3"
  },
  "language_info": {
   "codemirror_mode": {
    "name": "ipython",
    "version": 3
   },
   "file_extension": ".py",
   "mimetype": "text/x-python",
   "name": "python",
   "nbconvert_exporter": "python",
   "pygments_lexer": "ipython3",
   "version": "3.6.8"
  }
 },
 "nbformat": 4,
 "nbformat_minor": 2
}
