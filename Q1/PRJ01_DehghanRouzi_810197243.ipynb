{
 "cells": [
  {
   "cell_type": "markdown",
   "metadata": {},
   "source": [
    "# Import Section\n",
    "In this section the dataset and libraries are loaded."
   ]
  },
  {
   "cell_type": "code",
   "execution_count": 1,
   "metadata": {},
   "outputs": [],
   "source": [
    "import numpy as np\n",
    "import pandas as pd\n",
    "import os\n",
    "import os.path"
   ]
  },
  {
   "cell_type": "markdown",
   "metadata": {},
   "source": [
    "\"\"\" Extract all csv files from the dataset \"\"\""
   ]
  },
  {
   "cell_type": "code",
   "execution_count": 2,
   "metadata": {},
   "outputs": [
    {
     "name": "stdout",
     "output_type": "stream",
     "text": [
      "Number of total CSV files:  115\n"
     ]
    }
   ],
   "source": [
    "all_dirs = []\n",
    "for root, dirs, files in os.walk(\"espana-master\"):\n",
    "    for file in files:\n",
    "        if file.endswith(\".csv\"):\n",
    "            # print(os.path.join(root, file))\n",
    "            new_dir = os.path.join(root, file)\n",
    "            all_dirs.append(new_dir)\n",
    "\n",
    "print('Number of total CSV files: ', len(all_dirs))"
   ]
  },
  {
   "cell_type": "markdown",
   "metadata": {},
   "source": [
    "''' Merge all CSV files to a single CSV file named: total_table.csv '''"
   ]
  },
  {
   "cell_type": "code",
   "execution_count": 3,
   "metadata": {},
   "outputs": [],
   "source": [
    "fname = 'total_table.csv'  # A single file to save all the records\n",
    "\n",
    "# Check if file exists, delete it\n",
    "if os.path.isfile(fname):\n",
    "    os.remove(fname)\n",
    "\n",
    "# Add all files to fname csv file\n",
    "fout = open(fname, \"a\")\n",
    "# first file:\n",
    "for line in open(all_dirs[0]):\n",
    "    fout.write(line)\n",
    "# now the rest:\n",
    "for num in range(len(all_dirs) - 1):\n",
    "    with open(all_dirs[num + 1], \"r+\") as f:\n",
    "        f.readline()  # skip the header\n",
    "        for line in f:\n",
    "            fout.write(line)\n",
    "        f.close()  # not really needed\n",
    "fout.close()"
   ]
  },
  {
   "cell_type": "markdown",
   "metadata": {},
   "source": [
    "''' Extract data from csv file '''"
   ]
  },
  {
   "cell_type": "code",
   "execution_count": 4,
   "metadata": {},
   "outputs": [],
   "source": [
    "df = pd.read_csv('total_table.csv')"
   ]
  },
  {
   "cell_type": "markdown",
   "metadata": {},
   "source": [
    "\"\"\" Delete unused rows \"\"\""
   ]
  },
  {
   "cell_type": "code",
   "execution_count": 5,
   "metadata": {},
   "outputs": [
    {
     "name": "stdout",
     "output_type": "stream",
     "text": [
      "                    Team 1   FT                    Team 2\n",
      "0          Arenas Club (1)  2-3       Atlético Madrid (1)\n",
      "1          RCD Español (1)  3-2       Real Unión Club (1)\n",
      "2        Real Sociedad (1)  1-1  Athletic Club Bilbao (1)\n",
      "3       Real Madrid CF (1)  5-0             CE Europa (1)\n",
      "4         R. Racing C. (1)  0-2          FC Barcelona (1)\n",
      "...                    ...  ...                       ...\n",
      "35417   Sporting Gijón (3)  2-0     Albacete Balompié (3)\n",
      "35418   Rayo Vallecano (3)  3-1         RCD La Coruña (3)\n",
      "35419        Girona FC (3)  1-0             Málaga CF (3)\n",
      "35420  SD Ponferradina (3)  4-0           CD Tenerife (3)\n",
      "35421         Cádiz CF (3)  2-1        Extremadura UD (3)\n",
      "\n",
      "[35422 rows x 3 columns]\n",
      "Done 1\n"
     ]
    }
   ],
   "source": [
    "df = df.drop(['Date', 'HT', 'Round'], 1)\n",
    "print(df)\n",
    "print('Done 1')"
   ]
  },
  {
   "cell_type": "markdown",
   "metadata": {},
   "source": [
    "\"\"\" Uniquing the team names \"\"\", Because team names contains some numbers like: FC Barcelona (43)"
   ]
  },
  {
   "cell_type": "code",
   "execution_count": 6,
   "metadata": {},
   "outputs": [
    {
     "name": "stdout",
     "output_type": "stream",
     "text": [
      "                Team 1   FT                Team 2\n",
      "0          Arenas Club  2-3       Atlético Madrid\n",
      "1          RCD Español  3-2       Real Unión Club\n",
      "2        Real Sociedad  1-1  Athletic Club Bilbao\n",
      "3       Real Madrid CF  5-0             CE Europa\n",
      "4         R. Racing C.  0-2          FC Barcelona\n",
      "...                ...  ...                   ...\n",
      "35417   Sporting Gijón  2-0     Albacete Balompié\n",
      "35418   Rayo Vallecano  3-1         RCD La Coruña\n",
      "35419        Girona FC  1-0             Málaga CF\n",
      "35420  SD Ponferradina  4-0           CD Tenerife\n",
      "35421         Cádiz CF  2-1        Extremadura UD\n",
      "\n",
      "[35422 rows x 3 columns]\n"
     ]
    }
   ],
   "source": [
    "df['Team 1'] = df['Team 1'].apply(lambda x: x[0:x.find('(') - 1])\n",
    "df['Team 2'] = df['Team 2'].apply(lambda x: x[0:x.find('(') - 1])\n",
    "print(df)"
   ]
  },
  {
   "cell_type": "markdown",
   "metadata": {},
   "source": [
    "\"\"\" Create goal difference column \"\"\""
   ]
  },
  {
   "cell_type": "code",
   "execution_count": 7,
   "metadata": {},
   "outputs": [
    {
     "name": "stdout",
     "output_type": "stream",
     "text": [
      "                Team 1   FT                Team 2  Diff point\n",
      "0          Arenas Club  2-3       Atlético Madrid          -1\n",
      "1          RCD Español  3-2       Real Unión Club           1\n",
      "2        Real Sociedad  1-1  Athletic Club Bilbao           0\n",
      "3       Real Madrid CF  5-0             CE Europa           5\n",
      "4         R. Racing C.  0-2          FC Barcelona          -2\n",
      "...                ...  ...                   ...         ...\n",
      "35417   Sporting Gijón  2-0     Albacete Balompié           2\n",
      "35418   Rayo Vallecano  3-1         RCD La Coruña           2\n",
      "35419        Girona FC  1-0             Málaga CF           1\n",
      "35420  SD Ponferradina  4-0           CD Tenerife           4\n",
      "35421         Cádiz CF  2-1        Extremadura UD           1\n",
      "\n",
      "[35422 rows x 4 columns]\n",
      "Done 2\n"
     ]
    }
   ],
   "source": [
    "df['Diff point'] = df['FT'].apply(lambda x: int(x[0:x.find('-')]) - int(x[x.find('-') + 1:len(x)]))\n",
    "print(df)\n",
    "print('Done 2')"
   ]
  },
  {
   "cell_type": "markdown",
   "metadata": {},
   "source": [
    "\"\"\" All teams to Data frame \"\"\""
   ]
  },
  {
   "cell_type": "code",
   "execution_count": 8,
   "metadata": {},
   "outputs": [
    {
     "name": "stdout",
     "output_type": "stream",
     "text": [
      "Number of teams 101\n",
      "                   Teams  Points\n",
      "0            Arenas Club     0.0\n",
      "1            RCD Español     0.0\n",
      "2          Real Sociedad     0.0\n",
      "3         Real Madrid CF     0.0\n",
      "4           R. Racing C.     0.0\n",
      "..                   ...     ...\n",
      "96               CF Reus     0.0\n",
      "97           UCAM Murcia     0.0\n",
      "98        Extremadura UD     0.0\n",
      "99   CF Rayo Majadahonda     0.0\n",
      "100       CF Fuenlabrada     0.0\n",
      "\n",
      "[101 rows x 2 columns]\n",
      "{'Arenas Club': 0, 'RCD Español': 0, 'Real Sociedad': 0, 'Real Madrid CF': 0, 'R. Racing C.': 0, 'Athletic Club Bilbao': 0, 'Atlético Madrid': 0, 'FC Barcelona': 0, 'CE Europa': 0, 'Real Unión Club': 0, 'Deportivo Alavés': 0, 'Valencia CF': 0, 'Real Betis': 0, 'Real Oviedo': 0, 'Sevilla FC': 0, 'Hércules CF': 0, 'CA Osasuna': 0, 'Real Zaragoza': 0, 'RC Celta Vigo': 0, 'Real Murcia CF': 0, 'RCD La Coruña': 0, 'Granada CF': 0, 'CD Castellón': 0, 'CE Sabadell': 0, 'Real Sporting': 0, 'CD Alcoyano': 0, 'Gimnàstic Tarragona': 0, 'Real Valladolid CF': 0, 'Málaga CF': 0, 'UE Lleida': 0, 'UD Las Palmas': 0, 'Atético Tetuán': 0, 'R. Jaén': 0, 'Cultural Leonesa': 0, 'CD Condal': 0, 'Elche CF': 0, 'RCD Mallorca': 0, 'CD Tenerife': 0, 'Córdoba CF': 0, 'Pontevedra CF': 0, 'Levante UD': 0, 'Burgos CF': 0, 'UD Salamanca': 0, 'Cádiz CF': 0, 'Rayo Vallecano': 0, 'Recreativo Huelva': 0, 'UD Almería': 0, 'CD Logroñés': 0, 'Real Burgos CF': 0, 'Albacete Balompié': 0, 'Real Racing Santander': 0, 'Real Madrid': 0, 'Sporting Gijón': 0, 'SD Compostela': 0, 'RCD Espanyol': 0, 'CP Mérida': 0, 'CF Extremadura': 0, 'CD Leganés': 0, 'SD Eibar': 0, 'Real Madrid B': 0, 'CD Toledo': 0, 'Atlético Madrid B': 0, 'FC Barcelona B': 0, 'CD Badajoz': 0, 'Écija Balompié': 0, 'CD Ourense': 0, 'Villarreal CF': 0, 'CD Numancia': 0, 'Real Jaén CF': 0, 'Xerez CD': 0, 'RCD Mallorca B': 0, 'Getafe CF': 0, 'Universidad Las Palmas': 0, 'Racing Ferrol': 0, 'Polideportivo Ejido': 0, 'Terrassa FC': 0, 'CF Ciudad de Murcia': 0, 'Málaga CF B': 0, 'Algeciras CF': 0, 'Lorca FC': 0, 'UD Vecindario': 0, 'SD Ponferradina': 0, 'Sevilla FC B': 0, 'Granada 74': 0, 'Alicante CF': 0, 'SD Huesca': 0, 'Girona FC': 0, 'Real Unión': 0, 'Villarreal CF B': 0, 'FC Cartagena': 0, 'AD Alcorcón': 0, 'CD Guadalajara': 0, 'CD Mirandés': 0, 'CD Lugo': 0, 'UE Llagostera': 0, 'Athletic Club Bilbao B': 0, 'CF Reus': 0, 'UCAM Murcia': 0, 'Extremadura UD': 0, 'CF Rayo Majadahonda': 0, 'CF Fuenlabrada': 0}\n",
      " \n",
      "Working on Final df. PLEASE WAIT ...\n",
      "Final df finished\n"
     ]
    }
   ],
   "source": [
    "teams_names = df['Team 1'].unique()\n",
    "print('Number of teams', len(teams_names))\n",
    "final_df = pd.DataFrame(teams_names, columns=['Teams'])\n",
    "final_df['Points'] = float(0)\n",
    "print(final_df)\n",
    "teams_names_dict = dict.fromkeys(teams_names, 0)\n",
    "print(teams_names_dict)\n",
    "# df.columns = ['Teams', 'points']\n",
    "# final_df['points'] = df.apply(lambda row: final_df[0].iloc[row['Team 1']] is 3)\n",
    "print(' ')\n",
    "print('Working on Final df. PLEASE WAIT ...')\n",
    "for index in df.iterrows():\n",
    "    diff_point = index[1]['Diff point']\n",
    "    team_name_1 = index[1]['Team 1']\n",
    "    team_name_2 = index[1]['Team 2']\n",
    "    teams_names_dict[team_name_1] += 1\n",
    "    teams_names_dict[team_name_2] += 1\n",
    "    if diff_point > 0:\n",
    "        a = final_df.index[final_df['Teams'] == team_name_1].tolist()[0]\n",
    "        final_df.at[a, 'Points'] += 3\n",
    "    elif diff_point < 0:\n",
    "        a = final_df.index[final_df['Teams'] == team_name_2].tolist()[0]\n",
    "        final_df.at[a, 'Points'] += 3\n",
    "    else:\n",
    "        a = final_df.index[final_df['Teams'] == team_name_2].tolist()[0]\n",
    "        final_df.at[a, 'Points'] += 1\n",
    "        a = final_df.index[final_df['Teams'] == team_name_1].tolist()[0]\n",
    "        final_df.at[a, 'Points'] += 1\n",
    "print('Final df finished')"
   ]
  },
  {
   "cell_type": "markdown",
   "metadata": {},
   "source": [
    "''' Sort values by Points '''"
   ]
  },
  {
   "cell_type": "code",
   "execution_count": 9,
   "metadata": {},
   "outputs": [
    {
     "name": "stdout",
     "output_type": "stream",
     "text": [
      "Sort values by Points\n",
      "                      Teams  Points\n",
      "7              FC Barcelona  5445.0\n",
      "6           Atlético Madrid  4587.0\n",
      "5      Athletic Club Bilbao  4325.0\n",
      "11              Valencia CF  4270.0\n",
      "14               Sevilla FC  3800.0\n",
      "..                      ...     ...\n",
      "95   Athletic Club Bilbao B    32.0\n",
      "64           Écija Balompié    30.0\n",
      "34                CD Condal    29.0\n",
      "31           Atético Tetuán    26.0\n",
      "100          CF Fuenlabrada     9.0\n",
      "\n",
      "[101 rows x 2 columns]\n",
      "{'Arenas Club': 130, 'RCD Español': 1744, 'Real Sociedad': 2507, 'Real Madrid CF': 1812, 'R. Racing C.': 734, 'Athletic Club Bilbao': 2811, 'Atlético Madrid': 2747, 'FC Barcelona': 2811, 'CE Europa': 54, 'Real Unión Club': 72, 'Deportivo Alavés': 875, 'Valencia CF': 2713, 'Real Betis': 1945, 'Real Oviedo': 1417, 'Sevilla FC': 2583, 'Hércules CF': 1048, 'CA Osasuna': 1621, 'Real Zaragoza': 2295, 'RC Celta Vigo': 2029, 'Real Murcia CF': 1048, 'RCD La Coruña': 1667, 'Granada CF': 871, 'CD Castellón': 544, 'CE Sabadell': 594, 'Real Sporting': 1032, 'CD Alcoyano': 150, 'Gimnàstic Tarragona': 620, 'Real Valladolid CF': 1855, 'Málaga CF': 1434, 'UE Lleida': 358, 'UD Las Palmas': 1805, 'Atético Tetuán': 30, 'R. Jaén': 90, 'Cultural Leonesa': 72, 'CD Condal': 30, 'Elche CF': 1407, 'RCD Mallorca': 1209, 'CD Tenerife': 1169, 'Córdoba CF': 966, 'Pontevedra CF': 222, 'Levante UD': 939, 'Burgos CF': 246, 'UD Salamanca': 924, 'Cádiz CF': 785, 'Rayo Vallecano': 1019, 'Recreativo Huelva': 732, 'UD Almería': 798, 'CD Logroñés': 472, 'Real Burgos CF': 114, 'Albacete Balompié': 983, 'Real Racing Santander': 821, 'Real Madrid': 999, 'Sporting Gijón': 1059, 'SD Compostela': 328, 'RCD Espanyol': 961, 'CP Mérida': 202, 'CF Extremadura': 248, 'CD Leganés': 533, 'SD Eibar': 735, 'Real Madrid B': 206, 'CD Toledo': 164, 'Atlético Madrid B': 164, 'FC Barcelona B': 332, 'CD Badajoz': 290, 'Écija Balompié': 38, 'CD Ourense': 122, 'Villarreal CF': 889, 'CD Numancia': 911, 'Real Jaén CF': 168, 'Xerez CD': 542, 'RCD Mallorca B': 42, 'Getafe CF': 745, 'Universidad Las Palmas': 42, 'Racing Ferrol': 252, 'Polideportivo Ejido': 294, 'Terrassa FC': 126, 'CF Ciudad de Murcia': 168, 'Málaga CF B': 126, 'Algeciras CF': 42, 'Lorca FC': 126, 'UD Vecindario': 42, 'SD Ponferradina': 255, 'Sevilla FC B': 168, 'Granada 74': 42, 'Alicante CF': 42, 'SD Huesca': 377, 'Girona FC': 457, 'Real Unión': 42, 'Villarreal CF B': 126, 'FC Cartagena': 126, 'AD Alcorcón': 381, 'CD Guadalajara': 84, 'CD Mirandés': 213, 'CD Lugo': 297, 'UE Llagostera': 84, 'Athletic Club Bilbao B': 42, 'CF Reus': 126, 'UCAM Murcia': 42, 'Extremadura UD': 45, 'CF Rayo Majadahonda': 42, 'CF Fuenlabrada': 3}\n"
     ]
    }
   ],
   "source": [
    "final_df = final_df.sort_values(['Points'], ascending=False)\n",
    "print('Sort values by Points')\n",
    "print(final_df)\n",
    "print(teams_names_dict)"
   ]
  },
  {
   "cell_type": "markdown",
   "metadata": {},
   "source": [
    "''' Sort values by Points ratio '''"
   ]
  },
  {
   "cell_type": "code",
   "execution_count": 10,
   "metadata": {},
   "outputs": [
    {
     "name": "stdout",
     "output_type": "stream",
     "text": [
      "Sort values by Points ratio\n",
      "                      Teams  Points  Points ratio\n",
      "100          CF Fuenlabrada     9.0      3.000000\n",
      "51              Real Madrid  2064.0      2.066066\n",
      "7              FC Barcelona  5445.0      1.937033\n",
      "3            Real Madrid CF  3506.0      1.934879\n",
      "6           Atlético Madrid  4587.0      1.669822\n",
      "..                      ...     ...           ...\n",
      "84              Alicante CF    35.0      0.833333\n",
      "80            UD Vecindario    34.0      0.809524\n",
      "64           Écija Balompié    30.0      0.789474\n",
      "78             Algeciras CF    33.0      0.785714\n",
      "95   Athletic Club Bilbao B    32.0      0.761905\n",
      "\n",
      "[101 rows x 3 columns]\n"
     ]
    }
   ],
   "source": [
    "print('Sort values by Points ratio')\n",
    "final_df['Points ratio'] = final_df['Points']\n",
    "for key, value in teams_names_dict.items():\n",
    "    a = final_df.index[final_df['Teams'] == key].tolist()[0]\n",
    "    final_df.at[a, 'Points ratio'] /= value\n",
    "final_df = final_df.sort_values(['Points ratio'], ascending=False)\n",
    "print(final_df)"
   ]
  },
  {
   "cell_type": "code",
   "execution_count": 11,
   "metadata": {},
   "outputs": [
    {
     "name": "stdout",
     "output_type": "stream",
     "text": [
      "hi\n"
     ]
    }
   ],
   "source": [
    "print('hi')"
   ]
  },
  {
   "cell_type": "code",
   "execution_count": null,
   "metadata": {},
   "outputs": [],
   "source": []
  }
 ],
 "metadata": {
  "kernelspec": {
   "display_name": "Python 3",
   "language": "python",
   "name": "python3"
  },
  "language_info": {
   "codemirror_mode": {
    "name": "ipython",
    "version": 3
   },
   "file_extension": ".py",
   "mimetype": "text/x-python",
   "name": "python",
   "nbconvert_exporter": "python",
   "pygments_lexer": "ipython3",
   "version": "3.6.8"
  }
 },
 "nbformat": 4,
 "nbformat_minor": 2
}
